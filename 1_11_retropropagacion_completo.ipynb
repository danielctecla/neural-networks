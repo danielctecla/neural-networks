{
 "cells": [
  {
   "attachments": {},
   "cell_type": "markdown",
   "metadata": {},
   "source": [
    "# Daniel Isai Catonga Tecla - 6BV1\n",
    "# Entrenamiento con retropropagación\n",
    "\n",
    "En este ejercicio implementaremos el algoritmo de retropropagación dentro del descenso por gradiente para actualizar todos los pesos de la red durante varias épocas. Para entrenar la red usaremos el conjunto de datos de calificaciones que vimos previamente. Dicho conjunto tiene como vector de características la calificación del alumno en \"gre\", \"gpa\" y el \"ranking de su preparatoria\" y como valor objetivo esta su entrada a la universidad (como clase binaria).\n",
    "\n",
    "@juan1rving\n",
    "\n"
   ]
  },
  {
   "cell_type": "code",
   "execution_count": 84,
   "metadata": {},
   "outputs": [],
   "source": [
    "#importamos paquetes y datos\n",
    "import matplotlib.pyplot as plt\n",
    "import numpy as np\n",
    "import nni\n",
    "from data_prep import features, targets, features_test, targets_test\n",
    "\n",
    "# Definiciones útiles\n",
    "np.random.seed(21)"
   ]
  },
  {
   "cell_type": "code",
   "execution_count": 85,
   "metadata": {},
   "outputs": [
    {
     "name": "stdout",
     "output_type": "stream",
     "text": [
      "\n",
      "Features Summary Statistics:\n",
      "              gre         gpa      rank_1      rank_2      rank_3      rank_4\n",
      "count  360.000000  360.000000  360.000000  360.000000  360.000000  360.000000\n",
      "mean     0.019430    0.002307    0.158333    0.366667    0.302778    0.172222\n",
      "std      0.996139    0.988946    0.365561    0.482565    0.460099    0.378099\n",
      "min     -3.183094   -2.968993    0.000000    0.000000    0.000000    0.000000\n",
      "25%     -0.586063   -0.689498    0.000000    0.000000    0.000000    0.000000\n",
      "50%     -0.066657    0.026539    0.000000    0.000000    0.000000    0.000000\n",
      "75%      0.799020    0.736008    0.000000    1.000000    1.000000    0.000000\n",
      "max      1.837832    1.603135    1.000000    1.000000    1.000000    1.000000\n",
      "\n",
      "Target Value Counts:\n",
      "admit\n",
      "0    243\n",
      "1    117\n",
      "Name: count, dtype: int64\n"
     ]
    }
   ],
   "source": [
    "# Analizando los datos\n",
    "# Exploratory Data Analysis (EDA) for features\n",
    "print(\"\\nFeatures Summary Statistics:\")\n",
    "print(features.describe())\n",
    "\n",
    "# Checking the distribution of target values\n",
    "print(\"\\nTarget Value Counts:\")\n",
    "print(targets.value_counts())"
   ]
  },
  {
   "cell_type": "code",
   "execution_count": 87,
   "metadata": {},
   "outputs": [
    {
     "name": "stdout",
     "output_type": "stream",
     "text": [
      "\n",
      "Weights Input to Hidden Layer:\n",
      "[[ 0.28247667 -0.18294243]\n",
      " [ 0.06627603  0.10501335]\n",
      " [-0.52070267  0.0261297 ]\n",
      " [-0.43350115 -0.40390796]\n",
      " [-0.18686472 -0.81003875]\n",
      " [-0.60275497  0.09463316]]\n",
      "\n",
      "Weights Hidden to Output Layer:\n",
      "[0.26297692 0.34787763]\n"
     ]
    }
   ],
   "source": [
    "# Número de unidades en la capa oculta\n",
    "n_hidden = 2 \n",
    "\n",
    "# Hiperparámetros\n",
    "epochs = 5000\n",
    "learnrate = 0.01\n",
    "\n",
    "# Obtenemos el número de entradas (features) asi como el número de ejemplos (n_records)\n",
    "n_records, n_features = features.shape\n",
    "\n",
    "# Creamos las matrices de los pesos.\n",
    "weights_input_hidden = np.random.normal(scale=1 / n_features ** .5,\n",
    "                                        size=(n_features, n_hidden))\n",
    "weights_hidden_output = np.random.normal(scale=1 / n_features ** .5,\n",
    "                                         size=n_hidden)\n",
    "\n",
    "print(\"\\nWeights Input to Hidden Layer:\")\n",
    "print(weights_input_hidden)\n",
    "print(\"\\nWeights Hidden to Output Layer:\")\n",
    "print(weights_hidden_output)\n"
   ]
  },
  {
   "attachments": {},
   "cell_type": "markdown",
   "metadata": {},
   "source": [
    "## Entrenamiento"
   ]
  },
  {
   "cell_type": "code",
   "execution_count": 88,
   "metadata": {},
   "outputs": [
    {
     "name": "stdout",
     "output_type": "stream",
     "text": [
      "Epoch 200 train loss: 0.273471606509928\n",
      "Epoch 400 train loss: 0.26923206235515773\n",
      "Epoch 600 train loss: 0.26526536228217346\n",
      "Epoch 800 train loss: 0.26157099658198246\n",
      "Epoch 1000 train loss: 0.2581439532113187\n",
      "Epoch 1200 train loss: 0.25497584317130106\n",
      "Epoch 1400 train loss: 0.25205585094725413\n",
      "Epoch 1600 train loss: 0.24937152239456983\n",
      "Epoch 1800 train loss: 0.24690940498910577\n",
      "Epoch 2000 train loss: 0.24465555707776282\n",
      "Epoch 2200 train loss: 0.24259594349978666\n",
      "Epoch 2400 train loss: 0.24071673476787658\n",
      "Epoch 2600 train loss: 0.23900452608720518\n",
      "Epoch 2800 train loss: 0.23744649107691038\n",
      "Epoch 3000 train loss: 0.23603048335897445\n",
      "Epoch 3200 train loss: 0.23474509737335297\n",
      "Epoch 3400 train loss: 0.23357969799971984\n",
      "Epoch 3600 train loss: 0.23252442690492836\n",
      "Epoch 3800 train loss: 0.23157019204343968\n",
      "Epoch 4000 train loss: 0.23070864543891598\n",
      "Epoch 4200 train loss: 0.22993215327185557\n",
      "Epoch 4400 train loss: 0.22923376138029852\n",
      "Epoch 4600 train loss: 0.22860715853035232\n",
      "Epoch 4800 train loss: 0.2280466392091257\n",
      "Epoch 5000 train loss: 0.22754706721233117\n",
      "Exactitud sobre el conjunto de prueba: 0.750\n"
     ]
    }
   ],
   "source": [
    "#TODO (2 puntos): Completa el código para entrenar la red neuronal\n",
    "\n",
    "last_loss = None\n",
    "\n",
    "history = []\n",
    "\n",
    "# Algoritmo de descenso por gradiente\n",
    "for e in range(1, epochs + 1):\n",
    "    del_w_input_hidden = np.zeros(weights_input_hidden.shape)\n",
    "    del_w_hidden_output = np.zeros(weights_hidden_output.shape)\n",
    "    for x, y in zip(features.values, targets):\n",
    "        ## Forward pass ##\n",
    "        # TODO: Calculate the output\n",
    "        hidden_input = np.dot(x, weights_input_hidden)\n",
    "        hidden_output = nni.sigmoid(hidden_input)\n",
    "        h_o = np.dot(hidden_output, weights_hidden_output)\n",
    "        output = nni.sigmoid(h_o)\n",
    "\n",
    "        ## Backward pass ##\n",
    "        # TODO: Calculate the error\n",
    "        error = y - output\n",
    "\n",
    "        # TODO: Calculate error term in output unita\n",
    "        output_error = error * nni.sigmoid_prime(h_o)\n",
    "\n",
    "        # TODO: propagate errors to hidden layer\n",
    "        hidden_error = output_error * np.multiply(weights_hidden_output,hidden_input)\n",
    "\n",
    "        # TODO: Update the change in weights\n",
    "        del_w_hidden_output += output_error * hidden_output\n",
    "        temp = x * hidden_error[:,None]\n",
    "        temp = temp.T\n",
    "        del_w_input_hidden += temp\n",
    "\n",
    "    # TODO: Update weights\n",
    "    weights_input_hidden += (learnrate / n_records) * del_w_input_hidden \n",
    "    weights_hidden_output += (learnrate / n_records) * del_w_hidden_output\n",
    "\n",
    "    # Printing out the mean square error on the training set\n",
    "    if e % 200 == 0:\n",
    "        hidden_output = nni.sigmoid(np.dot(x, weights_input_hidden))\n",
    "        out = nni.sigmoid(np.dot(hidden_output,\n",
    "                             weights_hidden_output))\n",
    "        loss = np.mean((out - targets) ** 2)\n",
    "\n",
    "        if last_loss and last_loss < loss:\n",
    "            print(\"Epoch {} train loss: {} - WARNING - Loss Increasing\".format(e, loss))\n",
    "        else:\n",
    "            print(\"Epoch {} train loss: {}\".format(e, loss))\n",
    "        last_loss = loss\n",
    "        history.append(loss)\n",
    "\n",
    "# Despues de entrenar la red, vamos a ver como se comporta en el conjunto de test\n",
    "hidden = nni.sigmoid(np.dot(features_test, weights_input_hidden))\n",
    "out = nni.sigmoid(np.dot(hidden, weights_hidden_output))\n",
    "predictions = out > 0.5\n",
    "accuracy = np.mean(predictions == targets_test)\n",
    "print(\"Exactitud sobre el conjunto de prueba: {:.3f}\".format(accuracy))"
   ]
  },
  {
   "cell_type": "code",
   "execution_count": 89,
   "metadata": {},
   "outputs": [
    {
     "data": {
      "image/png": "[encoded data removed]",
      "text/plain": [
       "<Figure size 640x480 with 1 Axes>"
      ]
     },
     "metadata": {},
     "output_type": "display_data"
    }
   ],
   "source": [
    "# TODO (1 punto): Grafica la curva de aprendizaje (loss por época)\n",
    "x_ticks = list(range(200, epochs + 1, 200))\n",
    "plt.plot(x_ticks, history)\n",
    "plt.title(\"Curva de aprendizaje\")\n",
    "plt.xlabel(\"Épocas\")\n",
    "plt.ylabel(\"Loss\")\n",
    "plt.grid(True)\n",
    "plt.show()\n",
    "\n"
   ]
  },
  {
   "cell_type": "markdown",
   "metadata": {},
   "source": [
    "## Conclusiones\n",
    "\n",
    "Responde a las siguientes preguntas (1 punto):\n",
    "\n",
    "\n",
    "- ¿La pérdida de entrenamiento disminuye?\n",
    "Sí, disminuye con los entrenamientos que se le van haciendo. Es decir, en cada época tiende a reducirse la pérdida. Con los parámetros correctos, esta disminución es constante y no se incrementa.\n",
    "\n",
    "- ¿Cuál es la mejor pérdida que alcanzaste? Menciona la cantidad de épocas y la tasa de aprendizaje usada.\n",
    "La mejor pérdida obtenida fue en la **época 5000**, con un valor de:\n",
    "\n",
    "> **Epoch 5000 train loss: 0.22754706721233117**\n",
    "\n",
    "Esta configuración utilizó:\n",
    "- **Épocas:** 5000  \n",
    "- **Tasa de aprendizaje (learning rate):** 0.01  \n",
    "- **Precisión (accuracy):** 0.750"
   ]
  },
  {
   "cell_type": "markdown",
   "metadata": {},
   "source": []
  }
 ],
 "metadata": {
  "kernelspec": {
   "display_name": "nn-class",
   "language": "python",
   "name": "python3"
  },
  "language_info": {
   "codemirror_mode": {
    "name": "ipython",
    "version": 3
   },
   "file_extension": ".py",
   "mimetype": "text/x-python",
   "name": "python",
   "nbconvert_exporter": "python",
   "pygments_lexer": "ipython3",
   "version": "3.13.2"
  },
  "orig_nbformat": 4
 },
 "nbformat": 4,
 "nbformat_minor": 2
}
