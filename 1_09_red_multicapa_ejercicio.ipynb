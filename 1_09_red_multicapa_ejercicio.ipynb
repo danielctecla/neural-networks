{
 "cells": [
  {
   "attachments": {},
   "cell_type": "markdown",
   "metadata": {},
   "source": [
    "# Daniel Isai Catonga Tecla - 6BV1 \n",
    "# Red neuronal multicapa\n",
    "\n",
    "Ejercicio (4 puntos posibles)\n",
    "\n",
    "Una red neuronal multicapa tiene capas ocultas entre la entrada y la salida. A este tipo de red también se le conoce como perceptrón multicapa (MLP por sus siglas en inglés de multilayer perceptron)\n",
    "\n",
    "En este ejercicio implementaremos una red neuronal multicapa usando únicamente numpy.\n",
    "\n",
    "INSTRUCCIONES: Completa el código faltante.\n",
    "\n",
    "@juan1rving"
   ]
  },
  {
   "cell_type": "code",
   "execution_count": 1,
   "metadata": {},
   "outputs": [],
   "source": [
    "# Importamos paquetes\n",
    "import numpy as np\n",
    "import nni\n",
    "\n",
    "np.random.seed(42)"
   ]
  },
  {
   "attachments": {},
   "cell_type": "markdown",
   "metadata": {},
   "source": [
    "## Definamos la arquitectura de la red\n",
    "\n",
    "La red objetivo (mostrada en la figura) tiene cuatro elementos en la capa de entrada, tres neuronas en la capa oculta y dos neuronas en la capa de salida.\n",
    "\n",
    "![Red neuronal](./files/test1.png)\n"
   ]
  },
  {
   "cell_type": "code",
   "execution_count": 2,
   "metadata": {},
   "outputs": [],
   "source": [
    "# TODO (1 punto): Especifica el tamaño de las capas de acuerdo al diagrama de arriba.\n",
    "N_input = 4\n",
    "N_hidden = 3\n",
    "N_output = 2"
   ]
  },
  {
   "attachments": {},
   "cell_type": "markdown",
   "metadata": {},
   "source": [
    "## Definir los pesos\n",
    "\n",
    "Recordemos que los pesos ahora los representamos con matrices y utilizaremos el producto punto de la siguiente forma:\n",
    "\n",
    "$$\n",
    "H = XW\n",
    "$$\n",
    "\n",
    "Por ejemplo, para una capa de tres entradas y dos salidas:\n",
    "\n",
    "$$ X = \\begin{bmatrix} x_1 & x_2 & x_3 \\end{bmatrix} $$\n",
    "\n",
    "y\n",
    "\n",
    "$$W = \\begin{bmatrix}\n",
    "w_{1,1} & w_{1,2}\n",
    " \\\\\n",
    "w_{2,1} & w_{2,2}\n",
    " \\\\\n",
    "w_{3,1} & w_{3,2}\n",
    " \\\\\n",
    "\\end{bmatrix}$$\n",
    "\n",
    "recuerda que los renglones se relacionan con las entradas y las columnas con los nodos intermedios. \n",
    "\n",
    "Como herramienta para inicializar los pesos usaremos la función normal (verifica la documentación oficial de la función):\n",
    "\n",
    "> numpy.random.normal(loc=0.0, scale=1.0, size=None)\n",
    "\n",
    "TODO: construye a contrinuación matrices con valores aleatorios para la matriz de pesos entre la entrada y la oculta y para la oculta y la salida."
   ]
  },
  {
   "cell_type": "code",
   "execution_count": 3,
   "metadata": {},
   "outputs": [],
   "source": [
    "#TODO (1 punto): Completa el código faltante\n",
    "\n",
    "# Especifica la media y desviación estandar a usar. Revisa de las lecciones el tipo de inicialización de tipo Gaussiana o normal.\n",
    "mean = 0.0\n",
    "stdev = 0.1\n",
    "\n",
    "# crea las matrices de pesos de forma dinámica a partir de los valores que se pone en los tamaños de la red\n",
    "# Inicializalos de forma aleatoria usando una distribución normal\n",
    "W_1 = np.random.normal(mean,scale=stdev, size=(N_input,N_hidden))\n",
    "W_2 = np.random.normal(mean,scale=stdev, size=(N_hidden,N_output))\n",
    "\n",
    "# Inserta un valor aleatorio para la entrada, usando numpy\n",
    "X = np.random.randn(4)\n"
   ]
  },
  {
   "attachments": {},
   "cell_type": "markdown",
   "metadata": {},
   "source": [
    "## Calcular la salida\n",
    "\n",
    "Recordemos de la lección que\n",
    "\n",
    "$$ H = X W $$\n",
    "\n",
    "$$ \\hat{Y} = f(H) $$"
   ]
  },
  {
   "cell_type": "code",
   "execution_count": 4,
   "metadata": {},
   "outputs": [
    {
     "name": "stdout",
     "output_type": "stream",
     "text": [
      "salida de la capa oculta:  [0.48975306 0.54204203 0.4790029 ]\n",
      "salida de la red:  [0.46750523 0.47274472]\n"
     ]
    }
   ],
   "source": [
    "# TODO (1 punto): Completa el código faltante\n",
    "\n",
    "# Calcula la salida de la primera capa oculta\n",
    "H_1 = np.dot(X,W_1)\n",
    "# Función de activación\n",
    "A_1 = nni.sigmoid(H_1)\n",
    "\n",
    "print(\"salida de la capa oculta: \", A_1)\n",
    "\n",
    "H_2 = np.dot(A_1,W_2)\n",
    "# Función de activación de la salida\n",
    "Y_hat = nni.sigmoid(H_2)\n",
    "\n",
    "print(\"salida de la red: \", Y_hat)\n"
   ]
  },
  {
   "attachments": {},
   "cell_type": "markdown",
   "metadata": {},
   "source": [
    "(1 punto) Responde a las siguientes preguntas:\n",
    "\n",
    "¿Cuántas salidas tiene la red implementada? ¿Coincidió con el diagrama propuesto?\n",
    "\n",
    "En total, la red tiene **2 salidas**, y coincide con el diagrama que se propone en la imagen. Esto se establece mediante la variable `N_output = 2`, lo que indica que la capa de salida tiene dos neuronas.\n",
    "\n",
    "\n",
    "¿Qué tendriamos que modificar en el código para incluir los sesgos?\n",
    "\n",
    "Lo que se tiene que modificar en la red es la incorporación de un vector de bias para cada capa. Este vector debe inicializarse con valores aleatorios, similares a los pesos, y sumarse al resultado de la multiplicación entre la entrada y los pesos (`np.dot`). Esta suma debe hacerse antes de aplicar la función de activación, permitiendo que cada neurona tenga un desplazamiento adicional que mejora la capacidad de ajuste de la red:\n",
    "\n",
    "```python\n",
    "b_1 = np.random.normal(mean, stdev, size=N_hidden)\n",
    "b_2 = np.random.normal(mean, stdev, size=N_output)\n",
    "\n",
    "H_1 = np.dot(X, W_1) + b_1\n",
    "A_1 = nni.sigmoid(H_1)\n",
    "\n",
    "H_2 = np.dot(A_1, W_2) + b_2\n",
    "Y_hat = nni.sigmoid(H_2)"
   ]
  },
  {
   "cell_type": "markdown",
   "metadata": {},
   "source": []
  }
 ],
 "metadata": {
  "kernelspec": {
   "display_name": "nn-class",
   "language": "python",
   "name": "python3"
  },
  "language_info": {
   "codemirror_mode": {
    "name": "ipython",
    "version": 3
   },
   "file_extension": ".py",
   "mimetype": "text/x-python",
   "name": "python",
   "nbconvert_exporter": "python",
   "pygments_lexer": "ipython3",
   "version": "3.13.2"
  },
  "widgets": {
   "state": {},
   "version": "1.1.2"
  }
 },
 "nbformat": 4,
 "nbformat_minor": 2
}
